{
 "metadata": {
  "language_info": {
   "codemirror_mode": {
    "name": "ipython",
    "version": 3
   },
   "file_extension": ".py",
   "mimetype": "text/x-python",
   "name": "python",
   "nbconvert_exporter": "python",
   "pygments_lexer": "ipython3",
   "version": "3.9.0"
  },
  "orig_nbformat": 2,
  "kernelspec": {
   "name": "python3",
   "display_name": "Python 3.9.0 64-bit ('venv': venv)",
   "metadata": {
    "interpreter": {
     "hash": "c41f916eb22cea9bdbaaaab064138176358dbb5d2ce8d25ee8e9e5e36ad59d8c"
    }
   }
  }
 },
 "nbformat": 4,
 "nbformat_minor": 2,
 "cells": [
  {
   "cell_type": "code",
   "execution_count": 21,
   "metadata": {},
   "outputs": [],
   "source": [
    "import requests\n",
    "import time\n",
    "\n",
    "import pandas as pd\n",
    "\n",
    "from tqdm import tqdm\n",
    "from bs4 import BeautifulSoup"
   ]
  },
  {
   "cell_type": "code",
   "execution_count": 30,
   "metadata": {},
   "outputs": [],
   "source": [
    "n_pages = 441\n",
    "browser = \"Mozilla/5.0 (Macintosh; Intel Mac OS X 10_15_7) AppleWebKit/537.36 (KHTML, like Gecko) Chrome/86.0.4240.80 Safari/537.36\""
   ]
  },
  {
   "cell_type": "code",
   "execution_count": 27,
   "metadata": {},
   "outputs": [],
   "source": [
    "companies = list()"
   ]
  },
  {
   "cell_type": "code",
   "execution_count": 31,
   "metadata": {},
   "outputs": [
    {
     "output_type": "stream",
     "name": "stderr",
     "text": [
      "100%|██████████| 392/392 [42:44<00:00,  6.54s/it]\n"
     ]
    }
   ],
   "source": [
    "for page_number in tqdm(range(50, n_pages + 1)):\n",
    "    url = f\"https://www.sustainalytics.com/esg-ratings/?currentpage={page_number}\"\n",
    "    response = requests.get(url, headers={'user-agent': browser})\n",
    "    html = response.text\n",
    "    soup = BeautifulSoup(html, \"html.parser\")\n",
    "\n",
    "    blocks = soup.findAll(class_=\"company-row d-flex\")\n",
    "\n",
    "    for block in blocks:\n",
    "        company_name = block.find(class_=\"primary-color d-block\").text\n",
    "        company_tag = block.find(\"small\").text\n",
    "        company_rating = block.find(class_=\"col-2\").text\n",
    "        companies.append({\n",
    "            'name': company_name,\n",
    "            'tag': company_tag,\n",
    "            'rating': float(company_rating)\n",
    "        })\n",
    "    \n",
    "    time.sleep(5)"
   ]
  },
  {
   "cell_type": "code",
   "execution_count": 32,
   "metadata": {},
   "outputs": [
    {
     "output_type": "execute_result",
     "data": {
      "text/plain": [
       "                            name         tag  rating\n",
       "0               1&1 Drillisch AG     ETR:DRI    21.1\n",
       "1                2i Rete Gas SpA           -    37.2\n",
       "2                       2U, Inc.    NAS:TWOU    15.7\n",
       "3  360 Security Technology, Inc.  SHG:601360    21.2\n",
       "4                   3i Group PLC     LON:III    12.6"
      ],
      "text/html": "<div>\n<style scoped>\n    .dataframe tbody tr th:only-of-type {\n        vertical-align: middle;\n    }\n\n    .dataframe tbody tr th {\n        vertical-align: top;\n    }\n\n    .dataframe thead th {\n        text-align: right;\n    }\n</style>\n<table border=\"1\" class=\"dataframe\">\n  <thead>\n    <tr style=\"text-align: right;\">\n      <th></th>\n      <th>name</th>\n      <th>tag</th>\n      <th>rating</th>\n    </tr>\n  </thead>\n  <tbody>\n    <tr>\n      <th>0</th>\n      <td>1&amp;1 Drillisch AG</td>\n      <td>ETR:DRI</td>\n      <td>21.1</td>\n    </tr>\n    <tr>\n      <th>1</th>\n      <td>2i Rete Gas SpA</td>\n      <td>-</td>\n      <td>37.2</td>\n    </tr>\n    <tr>\n      <th>2</th>\n      <td>2U, Inc.</td>\n      <td>NAS:TWOU</td>\n      <td>15.7</td>\n    </tr>\n    <tr>\n      <th>3</th>\n      <td>360 Security Technology, Inc.</td>\n      <td>SHG:601360</td>\n      <td>21.2</td>\n    </tr>\n    <tr>\n      <th>4</th>\n      <td>3i Group PLC</td>\n      <td>LON:III</td>\n      <td>12.6</td>\n    </tr>\n  </tbody>\n</table>\n</div>"
     },
     "metadata": {},
     "execution_count": 32
    }
   ],
   "source": [
    "df = pd.DataFrame(companies)\n",
    "df.head()"
   ]
  },
  {
   "cell_type": "code",
   "execution_count": 35,
   "metadata": {},
   "outputs": [],
   "source": [
    "df.to_pickle(\"../data/raw/sustainalytics.pkl\")"
   ]
  },
  {
   "cell_type": "code",
   "execution_count": 37,
   "metadata": {},
   "outputs": [],
   "source": [
    "import wikipedia"
   ]
  },
  {
   "cell_type": "code",
   "execution_count": 78,
   "metadata": {},
   "outputs": [
    {
     "output_type": "stream",
     "name": "stderr",
     "text": [
      "100%|██████████| 4419/4419 [51:06<00:00,  1.44it/s]\n"
     ]
    }
   ],
   "source": [
    "wikipedia_pages = list()\n",
    "\n",
    "for name in tqdm(df['name']):\n",
    "    try:\n",
    "        wikipedia_pages.append(wikipedia.page(name))\n",
    "    except:\n",
    "        wikipedia_pages.append(None)"
   ]
  },
  {
   "cell_type": "code",
   "execution_count": 79,
   "metadata": {},
   "outputs": [
    {
     "output_type": "execute_result",
     "data": {
      "text/plain": [
       "                            name         tag  rating  \\\n",
       "0               1&1 Drillisch AG     ETR:DRI    21.1   \n",
       "1                2i Rete Gas SpA           -    37.2   \n",
       "2                       2U, Inc.    NAS:TWOU    15.7   \n",
       "3  360 Security Technology, Inc.  SHG:601360    21.2   \n",
       "4                   3i Group PLC     LON:III    12.6   \n",
       "\n",
       "                    wikipedia_page  \n",
       "0  <WikipediaPage '1&1 Drillisch'>  \n",
       "1    <WikipediaPage '2i Rete Gas'>  \n",
       "2   <WikipediaPage '2U (company)'>  \n",
       "3     <WikipediaPage 'Norton 360'>  \n",
       "4             <WikipediaPage '3i'>  "
      ],
      "text/html": "<div>\n<style scoped>\n    .dataframe tbody tr th:only-of-type {\n        vertical-align: middle;\n    }\n\n    .dataframe tbody tr th {\n        vertical-align: top;\n    }\n\n    .dataframe thead th {\n        text-align: right;\n    }\n</style>\n<table border=\"1\" class=\"dataframe\">\n  <thead>\n    <tr style=\"text-align: right;\">\n      <th></th>\n      <th>name</th>\n      <th>tag</th>\n      <th>rating</th>\n      <th>wikipedia_page</th>\n    </tr>\n  </thead>\n  <tbody>\n    <tr>\n      <th>0</th>\n      <td>1&amp;1 Drillisch AG</td>\n      <td>ETR:DRI</td>\n      <td>21.1</td>\n      <td>&lt;WikipediaPage '1&amp;1 Drillisch'&gt;</td>\n    </tr>\n    <tr>\n      <th>1</th>\n      <td>2i Rete Gas SpA</td>\n      <td>-</td>\n      <td>37.2</td>\n      <td>&lt;WikipediaPage '2i Rete Gas'&gt;</td>\n    </tr>\n    <tr>\n      <th>2</th>\n      <td>2U, Inc.</td>\n      <td>NAS:TWOU</td>\n      <td>15.7</td>\n      <td>&lt;WikipediaPage '2U (company)'&gt;</td>\n    </tr>\n    <tr>\n      <th>3</th>\n      <td>360 Security Technology, Inc.</td>\n      <td>SHG:601360</td>\n      <td>21.2</td>\n      <td>&lt;WikipediaPage 'Norton 360'&gt;</td>\n    </tr>\n    <tr>\n      <th>4</th>\n      <td>3i Group PLC</td>\n      <td>LON:III</td>\n      <td>12.6</td>\n      <td>&lt;WikipediaPage '3i'&gt;</td>\n    </tr>\n  </tbody>\n</table>\n</div>"
     },
     "metadata": {},
     "execution_count": 79
    }
   ],
   "source": [
    "df['wikipedia_page'] = wikipedia_pages\n",
    "df.head()"
   ]
  },
  {
   "cell_type": "code",
   "execution_count": 80,
   "metadata": {},
   "outputs": [],
   "source": [
    "df.to_pickle('../data/raw/sutainalytics_with_wiki.pkl')"
   ]
  },
  {
   "cell_type": "code",
   "execution_count": 81,
   "metadata": {},
   "outputs": [
    {
     "output_type": "execute_result",
     "data": {
      "text/plain": [
       "3775"
      ]
     },
     "metadata": {},
     "execution_count": 81
    }
   ],
   "source": [
    "sum([1 for p in wikipedia_pages if p is not None])"
   ]
  },
  {
   "cell_type": "code",
   "execution_count": 82,
   "metadata": {},
   "outputs": [
    {
     "output_type": "execute_result",
     "data": {
      "text/plain": [
       "4419"
      ]
     },
     "metadata": {},
     "execution_count": 82
    }
   ],
   "source": [
    "len(wikipedia_pages)"
   ]
  },
  {
   "cell_type": "code",
   "execution_count": 108,
   "metadata": {},
   "outputs": [],
   "source": [
    "company_keywords = ['company', 'corporation', 'provider', 'operator']"
   ]
  },
  {
   "cell_type": "code",
   "execution_count": 113,
   "metadata": {},
   "outputs": [
    {
     "output_type": "stream",
     "name": "stderr",
     "text": [
      "100%|██████████| 4419/4419 [12:16<00:00,  6.00it/s]\n"
     ]
    }
   ],
   "source": [
    "seems_valid = list()\n",
    "\n",
    "for page in tqdm(wikipedia_pages):\n",
    "    seems_valid.append(page is not None and any(keyword in page.summary.lower() for keyword in company_keywords))"
   ]
  },
  {
   "cell_type": "code",
   "execution_count": 114,
   "metadata": {},
   "outputs": [
    {
     "output_type": "execute_result",
     "data": {
      "text/plain": [
       "3064"
      ]
     },
     "metadata": {},
     "execution_count": 114
    }
   ],
   "source": [
    "sum(seems_valid)"
   ]
  },
  {
   "cell_type": "code",
   "execution_count": 116,
   "metadata": {},
   "outputs": [
    {
     "output_type": "execute_result",
     "data": {
      "text/plain": [
       "                            name         tag  rating  \\\n",
       "0               1&1 Drillisch AG     ETR:DRI    21.1   \n",
       "1                2i Rete Gas SpA           -    37.2   \n",
       "2                       2U, Inc.    NAS:TWOU    15.7   \n",
       "3  360 Security Technology, Inc.  SHG:601360    21.2   \n",
       "4                   3i Group PLC     LON:III    12.6   \n",
       "\n",
       "                    wikipedia_page  seems_valid  \\\n",
       "0  <WikipediaPage '1&1 Drillisch'>         True   \n",
       "1    <WikipediaPage '2i Rete Gas'>         True   \n",
       "2   <WikipediaPage '2U (company)'>         True   \n",
       "3     <WikipediaPage 'Norton 360'>        False   \n",
       "4             <WikipediaPage '3i'>         True   \n",
       "\n",
       "                                             summary  \\\n",
       "0  1&1 Drillisch AG (formerly known as: Drillisch...   \n",
       "1  Headquartered in Milan, 2i Rete Gas  is the se...   \n",
       "2  2U, Inc. (formerly 2tor Inc.) is an American e...   \n",
       "3  Norton 360, developed by Symantec, is an “all-...   \n",
       "4  3i Group plc is a British multinational privat...   \n",
       "\n",
       "                                             content  \n",
       "0  1&1 Drillisch AG (formerly known as: Drillisch...  \n",
       "1  Headquartered in Milan, 2i Rete Gas  is the se...  \n",
       "2  2U, Inc. (formerly 2tor Inc.) is an American e...  \n",
       "3  Norton 360, developed by Symantec, is an “all-...  \n",
       "4  3i Group plc is a British multinational privat...  "
      ],
      "text/html": "<div>\n<style scoped>\n    .dataframe tbody tr th:only-of-type {\n        vertical-align: middle;\n    }\n\n    .dataframe tbody tr th {\n        vertical-align: top;\n    }\n\n    .dataframe thead th {\n        text-align: right;\n    }\n</style>\n<table border=\"1\" class=\"dataframe\">\n  <thead>\n    <tr style=\"text-align: right;\">\n      <th></th>\n      <th>name</th>\n      <th>tag</th>\n      <th>rating</th>\n      <th>wikipedia_page</th>\n      <th>seems_valid</th>\n      <th>summary</th>\n      <th>content</th>\n    </tr>\n  </thead>\n  <tbody>\n    <tr>\n      <th>0</th>\n      <td>1&amp;1 Drillisch AG</td>\n      <td>ETR:DRI</td>\n      <td>21.1</td>\n      <td>&lt;WikipediaPage '1&amp;1 Drillisch'&gt;</td>\n      <td>True</td>\n      <td>1&amp;1 Drillisch AG (formerly known as: Drillisch...</td>\n      <td>1&amp;1 Drillisch AG (formerly known as: Drillisch...</td>\n    </tr>\n    <tr>\n      <th>1</th>\n      <td>2i Rete Gas SpA</td>\n      <td>-</td>\n      <td>37.2</td>\n      <td>&lt;WikipediaPage '2i Rete Gas'&gt;</td>\n      <td>True</td>\n      <td>Headquartered in Milan, 2i Rete Gas  is the se...</td>\n      <td>Headquartered in Milan, 2i Rete Gas  is the se...</td>\n    </tr>\n    <tr>\n      <th>2</th>\n      <td>2U, Inc.</td>\n      <td>NAS:TWOU</td>\n      <td>15.7</td>\n      <td>&lt;WikipediaPage '2U (company)'&gt;</td>\n      <td>True</td>\n      <td>2U, Inc. (formerly 2tor Inc.) is an American e...</td>\n      <td>2U, Inc. (formerly 2tor Inc.) is an American e...</td>\n    </tr>\n    <tr>\n      <th>3</th>\n      <td>360 Security Technology, Inc.</td>\n      <td>SHG:601360</td>\n      <td>21.2</td>\n      <td>&lt;WikipediaPage 'Norton 360'&gt;</td>\n      <td>False</td>\n      <td>Norton 360, developed by Symantec, is an “all-...</td>\n      <td>Norton 360, developed by Symantec, is an “all-...</td>\n    </tr>\n    <tr>\n      <th>4</th>\n      <td>3i Group PLC</td>\n      <td>LON:III</td>\n      <td>12.6</td>\n      <td>&lt;WikipediaPage '3i'&gt;</td>\n      <td>True</td>\n      <td>3i Group plc is a British multinational privat...</td>\n      <td>3i Group plc is a British multinational privat...</td>\n    </tr>\n  </tbody>\n</table>\n</div>"
     },
     "metadata": {},
     "execution_count": 116
    }
   ],
   "source": [
    "summaries = [page.summary if page is not None else None for page in wikipedia_pages]\n",
    "contents = [page.content if page is not None else None for page in wikipedia_pages]\n",
    "\n",
    "df['seems_valid'] = seems_valid\n",
    "df['summary'] = summaries\n",
    "df['content'] = contents\n",
    "\n",
    "df.head()"
   ]
  },
  {
   "cell_type": "code",
   "execution_count": 117,
   "metadata": {},
   "outputs": [],
   "source": [
    "df.to_pickle('../data/raw/sustainalytics_with_content.pkl')"
   ]
  },
  {
   "cell_type": "code",
   "execution_count": 118,
   "metadata": {},
   "outputs": [
    {
     "output_type": "execute_result",
     "data": {
      "text/plain": [
       "                    name  rating  \\\n",
       "0       1&1 Drillisch AG    21.1   \n",
       "1        2i Rete Gas SpA    37.2   \n",
       "2               2U, Inc.    15.7   \n",
       "4           3i Group PLC    12.6   \n",
       "5  3i Infrastructure PLC    22.1   \n",
       "\n",
       "                                             content  \n",
       "0  1&1 Drillisch AG (formerly known as: Drillisch...  \n",
       "1  Headquartered in Milan, 2i Rete Gas  is the se...  \n",
       "2  2U, Inc. (formerly 2tor Inc.) is an American e...  \n",
       "4  3i Group plc is a British multinational privat...  \n",
       "5  3i Infrastructure plc (LSE: 3IN) is an investm...  "
      ],
      "text/html": "<div>\n<style scoped>\n    .dataframe tbody tr th:only-of-type {\n        vertical-align: middle;\n    }\n\n    .dataframe tbody tr th {\n        vertical-align: top;\n    }\n\n    .dataframe thead th {\n        text-align: right;\n    }\n</style>\n<table border=\"1\" class=\"dataframe\">\n  <thead>\n    <tr style=\"text-align: right;\">\n      <th></th>\n      <th>name</th>\n      <th>rating</th>\n      <th>content</th>\n    </tr>\n  </thead>\n  <tbody>\n    <tr>\n      <th>0</th>\n      <td>1&amp;1 Drillisch AG</td>\n      <td>21.1</td>\n      <td>1&amp;1 Drillisch AG (formerly known as: Drillisch...</td>\n    </tr>\n    <tr>\n      <th>1</th>\n      <td>2i Rete Gas SpA</td>\n      <td>37.2</td>\n      <td>Headquartered in Milan, 2i Rete Gas  is the se...</td>\n    </tr>\n    <tr>\n      <th>2</th>\n      <td>2U, Inc.</td>\n      <td>15.7</td>\n      <td>2U, Inc. (formerly 2tor Inc.) is an American e...</td>\n    </tr>\n    <tr>\n      <th>4</th>\n      <td>3i Group PLC</td>\n      <td>12.6</td>\n      <td>3i Group plc is a British multinational privat...</td>\n    </tr>\n    <tr>\n      <th>5</th>\n      <td>3i Infrastructure PLC</td>\n      <td>22.1</td>\n      <td>3i Infrastructure plc (LSE: 3IN) is an investm...</td>\n    </tr>\n  </tbody>\n</table>\n</div>"
     },
     "metadata": {},
     "execution_count": 118
    }
   ],
   "source": [
    "df_valid = df[df['seems_valid']]\n",
    "df_valid.drop(columns=['tag', 'wikipedia_page', 'seems_valid', 'summary'], inplace=True)\n",
    "df_valid.head()"
   ]
  },
  {
   "cell_type": "code",
   "execution_count": 119,
   "metadata": {},
   "outputs": [],
   "source": [
    "df_valid.to_pickle('../data/processed/sustainalytics_dataset.pkl')"
   ]
  }
 ]
}