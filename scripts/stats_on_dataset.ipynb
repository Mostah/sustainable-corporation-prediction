{
 "cells": [
  {
   "cell_type": "code",
   "execution_count": 1,
   "metadata": {},
   "outputs": [],
   "source": [
    "import pandas as pd\n",
    "import matplotlib.pyplot as plt\n",
    "from collections import Counter"
   ]
  },
  {
   "cell_type": "code",
   "execution_count": 2,
   "metadata": {},
   "outputs": [
    {
     "data": {
      "text/html": [
       "<div>\n",
       "<style scoped>\n",
       "    .dataframe tbody tr th:only-of-type {\n",
       "        vertical-align: middle;\n",
       "    }\n",
       "\n",
       "    .dataframe tbody tr th {\n",
       "        vertical-align: top;\n",
       "    }\n",
       "\n",
       "    .dataframe thead th {\n",
       "        text-align: right;\n",
       "    }\n",
       "</style>\n",
       "<table border=\"1\" class=\"dataframe\">\n",
       "  <thead>\n",
       "    <tr style=\"text-align: right;\">\n",
       "      <th></th>\n",
       "      <th>name</th>\n",
       "      <th>rating</th>\n",
       "      <th>content</th>\n",
       "    </tr>\n",
       "  </thead>\n",
       "  <tbody>\n",
       "    <tr>\n",
       "      <th>0</th>\n",
       "      <td>1&amp;1 Drillisch AG</td>\n",
       "      <td>21.1</td>\n",
       "      <td>1&amp;1 Drillisch AG (formerly known as: Drillisch...</td>\n",
       "    </tr>\n",
       "    <tr>\n",
       "      <th>1</th>\n",
       "      <td>2i Rete Gas SpA</td>\n",
       "      <td>37.2</td>\n",
       "      <td>Headquartered in Milan, 2i Rete Gas  is the se...</td>\n",
       "    </tr>\n",
       "    <tr>\n",
       "      <th>2</th>\n",
       "      <td>2U, Inc.</td>\n",
       "      <td>15.7</td>\n",
       "      <td>2U, Inc. (formerly 2tor Inc.) is an American e...</td>\n",
       "    </tr>\n",
       "    <tr>\n",
       "      <th>4</th>\n",
       "      <td>3i Group PLC</td>\n",
       "      <td>12.6</td>\n",
       "      <td>3i Group plc is a British multinational privat...</td>\n",
       "    </tr>\n",
       "    <tr>\n",
       "      <th>5</th>\n",
       "      <td>3i Infrastructure PLC</td>\n",
       "      <td>22.1</td>\n",
       "      <td>3i Infrastructure plc (LSE: 3IN) is an investm...</td>\n",
       "    </tr>\n",
       "  </tbody>\n",
       "</table>\n",
       "</div>"
      ],
      "text/plain": [
       "                    name  rating  \\\n",
       "0       1&1 Drillisch AG    21.1   \n",
       "1        2i Rete Gas SpA    37.2   \n",
       "2               2U, Inc.    15.7   \n",
       "4           3i Group PLC    12.6   \n",
       "5  3i Infrastructure PLC    22.1   \n",
       "\n",
       "                                             content  \n",
       "0  1&1 Drillisch AG (formerly known as: Drillisch...  \n",
       "1  Headquartered in Milan, 2i Rete Gas  is the se...  \n",
       "2  2U, Inc. (formerly 2tor Inc.) is an American e...  \n",
       "4  3i Group plc is a British multinational privat...  \n",
       "5  3i Infrastructure plc (LSE: 3IN) is an investm...  "
      ]
     },
     "execution_count": 2,
     "metadata": {},
     "output_type": "execute_result"
    }
   ],
   "source": [
    "df = pd.read_pickle('../data/processed/sustainalytics_dataset.pkl')\n",
    "df.head()"
   ]
  },
  {
   "cell_type": "code",
   "execution_count": 34,
   "metadata": {},
   "outputs": [
    {
     "data": {
      "text/plain": [
       "<AxesSubplot:xlabel='rating'>"
      ]
     },
     "execution_count": 34,
     "metadata": {},
     "output_type": "execute_result"
    },
    {
     "data": {
      "image/png": "[encoded data removed]",
      "text/plain": [
       "<Figure size 1440x720 with 1 Axes>"
      ]
     },
     "metadata": {
      "needs_background": "light"
     },
     "output_type": "display_data"
    }
   ],
   "source": [
    "df.groupby('rating')['rating'].count().plot(kind='bar', figsize=(20,10))"
   ]
  },
  {
   "cell_type": "code",
   "execution_count": 4,
   "metadata": {},
   "outputs": [
    {
     "data": {
      "image/png": "[encoded data removed]",
      "text/plain": [
       "<Figure size 432x288 with 1 Axes>"
      ]
     },
     "metadata": {
      "needs_background": "light"
     },
     "output_type": "display_data"
    }
   ],
   "source": [
    "dico = {0:0, 1:0, 2:0, 3:0, 4:0}\n",
    "for _, value in df['rating'].items():\n",
    "    if value > 50:\n",
    "        key_trunc = 4\n",
    "    else:\n",
    "        key_trunc = int(value / 10)\n",
    "    if key_trunc in dico:   \n",
    "        dico[key_trunc] += 1\n",
    "\n",
    "plt.bar(range(len(dico)), list(dico.values()), align='center')\n",
    "plt.xticks(range(len(dico)), list(dico.keys()))\n",
    "\n",
    "plt.show()"
   ]
  },
  {
   "cell_type": "code",
   "execution_count": 5,
   "metadata": {},
   "outputs": [
    {
     "name": "stderr",
     "output_type": "stream",
     "text": [
      "None of PyTorch, TensorFlow >= 2.0, or Flax have been found. Models won't be available and only tokenizers, configuration and file/data utilities can be used.\n"
     ]
    }
   ],
   "source": [
    "from transformers import BertTokenizer\n",
    "tokenizer = BertTokenizer.from_pretrained('bert-base-uncased')"
   ]
  },
  {
   "cell_type": "code",
   "execution_count": 6,
   "metadata": {},
   "outputs": [
    {
     "data": {
      "text/html": [
       "<div>\n",
       "<style scoped>\n",
       "    .dataframe tbody tr th:only-of-type {\n",
       "        vertical-align: middle;\n",
       "    }\n",
       "\n",
       "    .dataframe tbody tr th {\n",
       "        vertical-align: top;\n",
       "    }\n",
       "\n",
       "    .dataframe thead th {\n",
       "        text-align: right;\n",
       "    }\n",
       "</style>\n",
       "<table border=\"1\" class=\"dataframe\">\n",
       "  <thead>\n",
       "    <tr style=\"text-align: right;\">\n",
       "      <th></th>\n",
       "      <th>name</th>\n",
       "      <th>rating</th>\n",
       "      <th>content</th>\n",
       "      <th>word_counter</th>\n",
       "    </tr>\n",
       "  </thead>\n",
       "  <tbody>\n",
       "    <tr>\n",
       "      <th>0</th>\n",
       "      <td>1&amp;1 Drillisch AG</td>\n",
       "      <td>21.1</td>\n",
       "      <td>1&amp;1 Drillisch AG (formerly known as: Drillisch...</td>\n",
       "      <td>{'drill': 14, 'formerly': 1, 'known': 1, 'germ...</td>\n",
       "    </tr>\n",
       "    <tr>\n",
       "      <th>1</th>\n",
       "      <td>2i Rete Gas SpA</td>\n",
       "      <td>37.2</td>\n",
       "      <td>Headquartered in Milan, 2i Rete Gas  is the se...</td>\n",
       "      <td>{'headquartered': 1, 'milan': 1, 'second': 1, ...</td>\n",
       "    </tr>\n",
       "    <tr>\n",
       "      <th>2</th>\n",
       "      <td>2U, Inc.</td>\n",
       "      <td>15.7</td>\n",
       "      <td>2U, Inc. (formerly 2tor Inc.) is an American e...</td>\n",
       "      <td>{'formerly': 1, 'american': 1, 'educational': ...</td>\n",
       "    </tr>\n",
       "    <tr>\n",
       "      <th>4</th>\n",
       "      <td>3i Group PLC</td>\n",
       "      <td>12.6</td>\n",
       "      <td>3i Group plc is a British multinational privat...</td>\n",
       "      <td>{'group': 4, 'british': 2, 'multinational': 1,...</td>\n",
       "    </tr>\n",
       "    <tr>\n",
       "      <th>5</th>\n",
       "      <td>3i Infrastructure PLC</td>\n",
       "      <td>22.1</td>\n",
       "      <td>3i Infrastructure plc (LSE: 3IN) is an investm...</td>\n",
       "      <td>{'infrastructure': 1, 'investment': 1, 'busine...</td>\n",
       "    </tr>\n",
       "    <tr>\n",
       "      <th>...</th>\n",
       "      <td>...</td>\n",
       "      <td>...</td>\n",
       "      <td>...</td>\n",
       "      <td>...</td>\n",
       "    </tr>\n",
       "    <tr>\n",
       "      <th>4412</th>\n",
       "      <td>Zoomlion Heavy Industry Science &amp; Technology C...</td>\n",
       "      <td>41.8</td>\n",
       "      <td>Zoomlion Heavy Industry Science and Technology...</td>\n",
       "      <td>{'zoom': 31, 'heavy': 3, 'industry': 4, 'scien...</td>\n",
       "    </tr>\n",
       "    <tr>\n",
       "      <th>4414</th>\n",
       "      <td>Zscaler, Inc.</td>\n",
       "      <td>18.6</td>\n",
       "      <td>Zscaler () is an American cloud-based informat...</td>\n",
       "      <td>{'american': 1, 'cloud': 3, 'based': 1, 'infor...</td>\n",
       "    </tr>\n",
       "    <tr>\n",
       "      <th>4415</th>\n",
       "      <td>ZTE Corporation</td>\n",
       "      <td>22.0</td>\n",
       "      <td>ZTE Corporation is a Chinese partially state-o...</td>\n",
       "      <td>{'corporation': 4, 'chinese': 14, 'partially':...</td>\n",
       "    </tr>\n",
       "    <tr>\n",
       "      <th>4417</th>\n",
       "      <td>Zurich Insurance Group AG</td>\n",
       "      <td>18.0</td>\n",
       "      <td>Zurich Insurance Group Ltd. is a Swiss insuran...</td>\n",
       "      <td>{'zurich': 78, 'insurance': 40, 'group': 18, '...</td>\n",
       "    </tr>\n",
       "    <tr>\n",
       "      <th>4418</th>\n",
       "      <td>Zynga Inc.</td>\n",
       "      <td>16.2</td>\n",
       "      <td>Zynga Inc.  is an American social game develop...</td>\n",
       "      <td>{'american': 2, 'social': 14, 'game': 55, 'dev...</td>\n",
       "    </tr>\n",
       "  </tbody>\n",
       "</table>\n",
       "<p>3064 rows × 4 columns</p>\n",
       "</div>"
      ],
      "text/plain": [
       "                                                   name  rating  \\\n",
       "0                                      1&1 Drillisch AG    21.1   \n",
       "1                                       2i Rete Gas SpA    37.2   \n",
       "2                                              2U, Inc.    15.7   \n",
       "4                                          3i Group PLC    12.6   \n",
       "5                                 3i Infrastructure PLC    22.1   \n",
       "...                                                 ...     ...   \n",
       "4412  Zoomlion Heavy Industry Science & Technology C...    41.8   \n",
       "4414                                      Zscaler, Inc.    18.6   \n",
       "4415                                    ZTE Corporation    22.0   \n",
       "4417                          Zurich Insurance Group AG    18.0   \n",
       "4418                                         Zynga Inc.    16.2   \n",
       "\n",
       "                                                content  \\\n",
       "0     1&1 Drillisch AG (formerly known as: Drillisch...   \n",
       "1     Headquartered in Milan, 2i Rete Gas  is the se...   \n",
       "2     2U, Inc. (formerly 2tor Inc.) is an American e...   \n",
       "4     3i Group plc is a British multinational privat...   \n",
       "5     3i Infrastructure plc (LSE: 3IN) is an investm...   \n",
       "...                                                 ...   \n",
       "4412  Zoomlion Heavy Industry Science and Technology...   \n",
       "4414  Zscaler () is an American cloud-based informat...   \n",
       "4415  ZTE Corporation is a Chinese partially state-o...   \n",
       "4417  Zurich Insurance Group Ltd. is a Swiss insuran...   \n",
       "4418  Zynga Inc.  is an American social game develop...   \n",
       "\n",
       "                                           word_counter  \n",
       "0     {'drill': 14, 'formerly': 1, 'known': 1, 'germ...  \n",
       "1     {'headquartered': 1, 'milan': 1, 'second': 1, ...  \n",
       "2     {'formerly': 1, 'american': 1, 'educational': ...  \n",
       "4     {'group': 4, 'british': 2, 'multinational': 1,...  \n",
       "5     {'infrastructure': 1, 'investment': 1, 'busine...  \n",
       "...                                                 ...  \n",
       "4412  {'zoom': 31, 'heavy': 3, 'industry': 4, 'scien...  \n",
       "4414  {'american': 1, 'cloud': 3, 'based': 1, 'infor...  \n",
       "4415  {'corporation': 4, 'chinese': 14, 'partially':...  \n",
       "4417  {'zurich': 78, 'insurance': 40, 'group': 18, '...  \n",
       "4418  {'american': 2, 'social': 14, 'game': 55, 'dev...  \n",
       "\n",
       "[3064 rows x 4 columns]"
      ]
     },
     "execution_count": 6,
     "metadata": {},
     "output_type": "execute_result"
    }
   ],
   "source": [
    "def custom_tokenizer(row):\n",
    "    c = Counter(tokenizer.tokenize(row.content))\n",
    "    to_pop = []\n",
    "    for key, value in c.items():\n",
    "        if len(key) <= 3 or (len(key) >= 2 and key[0:2] == \"##\"):\n",
    "            to_pop.append(key)\n",
    "    for key in to_pop:\n",
    "        c.pop(key, None)\n",
    "    return c\n",
    "\n",
    "df['word_counter'] = df.apply(lambda row: \n",
    "                              custom_tokenizer(row), axis = 1) \n",
    "df"
   ]
  },
  {
   "cell_type": "code",
   "execution_count": 7,
   "metadata": {},
   "outputs": [],
   "source": [
    "c0 = Counter()\n",
    "c1 = Counter()\n",
    "c2 = Counter()\n",
    "c3 = Counter()\n",
    "c4 = Counter()\n",
    "for row in df.iterrows():\n",
    "    if row[1].rating >= 40:\n",
    "        c4 += row[1].word_counter\n",
    "    elif row[1].rating >= 30:\n",
    "        c3 += row[1].word_counter\n",
    "    elif row[1].rating >= 20:\n",
    "        c2 += row[1].word_counter\n",
    "    elif row[1].rating >= 10:\n",
    "        c1 += row[1].word_counter\n",
    "    else:\n",
    "        c0 += row[1].word_counter\n",
    "    "
   ]
  },
  {
   "cell_type": "code",
   "execution_count": 8,
   "metadata": {},
   "outputs": [
    {
     "name": "stdout",
     "output_type": "stream",
     "text": [
      "***** Category 0 *****\n",
      "[('company', 508), ('with', 369), ('that', 280), ('group', 225), ('from', 200), ('bert', 183), ('million', 182), ('acquired', 168), ('business', 159), ('also', 149), ('which', 140), ('billion', 133), ('development', 120), ('sold', 113), ('management', 102)]\n",
      "***** Category 1 *****\n",
      "[('company', 13491), ('with', 10975), ('that', 8791), ('from', 6187), ('which', 4602), ('million', 4237), ('also', 3997), ('group', 3742), ('were', 3607), ('business', 3541), ('first', 3448), ('announced', 3286), ('acquired', 3034), ('billion', 2948), ('services', 2757)]\n",
      "***** Category 2 *****\n",
      "[('company', 18024), ('with', 13484), ('that', 10447), ('from', 8048), ('bank', 5921), ('which', 5552), ('million', 5528), ('also', 5289), ('group', 5284), ('business', 4637), ('first', 4544), ('were', 4254), ('billion', 4035), ('announced', 3768), ('services', 3741)]\n",
      "***** Category 3 *****\n",
      "[('company', 8986), ('with', 5913), ('that', 4425), ('from', 3697), ('million', 2731), ('which', 2620), ('also', 2336), ('billion', 2185), ('group', 2081), ('were', 1990), ('business', 1850), ('first', 1784), ('announced', 1672), ('acquired', 1634), ('china', 1589)]\n",
      "***** Category 4 *****\n",
      "[('company', 2863), ('with', 1573), ('that', 1189), ('from', 1064), ('group', 932), ('china', 912), ('power', 874), ('which', 688), ('also', 686), ('billion', 679), ('million', 661), ('[UNK]', 594), ('largest', 543), ('first', 535), ('were', 533)]\n"
     ]
    }
   ],
   "source": [
    "print(\"***** Category 0 *****\")\n",
    "print(c0.most_common(15))\n",
    "print(\"***** Category 1 *****\")\n",
    "print(c1.most_common(15))\n",
    "print(\"***** Category 2 *****\")\n",
    "print(c2.most_common(15))\n",
    "print(\"***** Category 3 *****\")\n",
    "print(c3.most_common(15))\n",
    "print(\"***** Category 4 *****\")\n",
    "print(c4.most_common(15))"
   ]
  },
  {
   "cell_type": "code",
   "execution_count": 31,
   "metadata": {
    "scrolled": true
   },
   "outputs": [
    {
     "name": "stdout",
     "output_type": "stream",
     "text": [
      "***** Category 0 *****\n",
      "['bert', 'group', 'development', 'pearson', 'property', 'acquired', 'publishing', 'real', 'estate', 'sold', 'centres', 'france', 'education', 'shopping', 'westfield', 'flex', 'centro', 'management', 'portfolio', 'house', 'business', 'countries', 'properties', 'else', 'sector', 'investment', 'million', 'silver', 'printing', 'display']\n",
      "***** Category 1 *****\n",
      "['software', 'that', 'apple', 'media', 'data', 'television', 'with', 'digital', 'entertainment', 'their', 'intel', 'game', 'news', 'games', 'cloud', 'netflix', 'nokia', 'disney', 'microsoft', 'announced', 'service', 'stores', 'sports', 'video', 'this', 'real', 'canadian', 'computer', 'network', 'time']\n",
      "***** Category 2 *****\n",
      "['bank', 'samsung', 'insurance', 'mobile', 'services', 'banking', 'operators', 'financial', '[UNK]', 'coca', 'cola', 'thai', 'renault', 'telecom', 'carr', 'banks', 'line', 'customers', 'fixed', 'international', 'stores', 'suzuki', 'credit', 'opened', 'japan', 'starbucks', 'store', 'life', 'america', 'amazon']\n",
      "***** Category 3 *****\n",
      "['company', 'energy', 'power', 'plant', 'china', 'mine', 'production', 'ford', 'gold', 'steel', '[UNK]', 'electric', 'billion', 'mitsubishi', 'nissan', 'tesla', 'toyota', 'coal', 'corporation', 'aircraft', 'mining', 'systems', 'petroleum', 'motors', 'shell', 'million', 'ryan', 'vehicles', 'natural', 'speed']\n",
      "***** Category 4 *****\n",
      "['power', 'china', 'company', 'steel', '[UNK]', 'group', 'production', 'energy', 'plant', 'mining', 'hong', 'electric', 'saudi', 'coal', 'state', 'mine', 'chinese', 'samsung', 'copper', 'iron', 'nuclear', 'largest', 'listed', 'construction', 'electricity', 'plants', 'billion', 'natural', 'dong', 'capacity']\n",
      "***** Global *****\n",
      "['company', 'with', 'that', 'from', 'which', 'million', 'also', 'group', 'business', 'were', 'first', 'billion', 'bank', 'announced', 'acquired', 'services', 'this', 'products', 'companies', 'largest', 'their', 'over', 'market', 'would', 'into', 'year', 'other', 'corporation', 'based', 'after']\n"
     ]
    }
   ],
   "source": [
    "cg = c0 + c1 + c2 + c3 + c4\n",
    "\n",
    "# number of words\n",
    "m0 = sum([c0[key] for key in c0])\n",
    "m1 = sum([c1[key] for key in c1])\n",
    "m2 = sum([c2[key] for key in c2])\n",
    "m3 = sum([c3[key] for key in c3])\n",
    "m4 = sum([c4[key] for key in c4])\n",
    "mg = m0 + m1 + m2 + m3 + m4\n",
    "\n",
    "# frequency dict\n",
    "fg = { key: value / mg for key, value in cg.items()}\n",
    "f0 = { key: value / m0 - fg[key] for key, value in c0.items()}\n",
    "f1 = { key: value / m1 - fg[key] for key, value in c1.items()}\n",
    "f2 = { key: value / m2 - fg[key] for key, value in c2.items()}\n",
    "f3 = { key: value / m3 - fg[key] for key, value in c3.items()}\n",
    "f4 = { key: value / m4 - fg[key] for key, value in c4.items()}\n",
    "\n",
    "\n",
    "print(\"***** Category 0 *****\")\n",
    "print([item[0] for item in sorted(f0.items(), key= lambda item: -item[1])][:30])\n",
    "print(\"***** Category 1 *****\")\n",
    "print([item[0] for item in sorted(f1.items(), key= lambda item: -item[1])][:30])\n",
    "print(\"***** Category 2 *****\")\n",
    "print([item[0] for item in sorted(f2.items(), key= lambda item: -item[1])][:30])\n",
    "print(\"***** Category 3 *****\")\n",
    "print([item[0] for item in sorted(f3.items(), key= lambda item: -item[1])][:30])\n",
    "print(\"***** Category 4 *****\")\n",
    "print([item[0] for item in sorted(f4.items(), key= lambda item: -item[1])][:30])\n",
    "print(\"***** Global *****\")\n",
    "print([item[0] for item in sorted(fg.items(), key= lambda item: -item[1])][:30])"
   ]
  },
  {
   "cell_type": "code",
   "execution_count": null,
   "metadata": {},
   "outputs": [],
   "source": []
  },
  {
   "cell_type": "code",
   "execution_count": null,
   "metadata": {},
   "outputs": [],
   "source": []
  },
  {
   "cell_type": "code",
   "execution_count": null,
   "metadata": {},
   "outputs": [],
   "source": []
  }
 ],
 "metadata": {
  "kernelspec": {
   "display_name": "Python 3",
   "language": "python",
   "name": "python3"
  },
  "language_info": {
   "codemirror_mode": {
    "name": "ipython",
    "version": 3
   },
   "file_extension": ".py",
   "mimetype": "text/x-python",
   "name": "python",
   "nbconvert_exporter": "python",
   "pygments_lexer": "ipython3",
   "version": "3.8.6"
  }
 },
 "nbformat": 4,
 "nbformat_minor": 4
}
