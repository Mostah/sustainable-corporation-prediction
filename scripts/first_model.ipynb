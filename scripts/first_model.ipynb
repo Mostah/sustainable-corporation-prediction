{
 "metadata": {
  "language_info": {
   "codemirror_mode": {
    "name": "ipython",
    "version": 3
   },
   "file_extension": ".py",
   "mimetype": "text/x-python",
   "name": "python",
   "nbconvert_exporter": "python",
   "pygments_lexer": "ipython3",
   "version": "3.9.0"
  },
  "orig_nbformat": 2,
  "kernelspec": {
   "name": "python3",
   "display_name": "Python 3.9.0 64-bit ('venv': venv)",
   "metadata": {
    "interpreter": {
     "hash": "c41f916eb22cea9bdbaaaab064138176358dbb5d2ce8d25ee8e9e5e36ad59d8c"
    }
   }
  }
 },
 "nbformat": 4,
 "nbformat_minor": 2,
 "cells": [
  {
   "cell_type": "code",
   "execution_count": 2,
   "metadata": {},
   "outputs": [],
   "source": [
    "import pandas as pd"
   ]
  },
  {
   "cell_type": "code",
   "execution_count": 3,
   "metadata": {},
   "outputs": [
    {
     "output_type": "execute_result",
     "data": {
      "text/plain": [
       "                    name  rating  \\\n",
       "0       1&1 Drillisch AG    21.1   \n",
       "1        2i Rete Gas SpA    37.2   \n",
       "2               2U, Inc.    15.7   \n",
       "4           3i Group PLC    12.6   \n",
       "5  3i Infrastructure PLC    22.1   \n",
       "\n",
       "                                             content  \n",
       "0  1&1 Drillisch AG (formerly known as: Drillisch...  \n",
       "1  Headquartered in Milan, 2i Rete Gas  is the se...  \n",
       "2  2U, Inc. (formerly 2tor Inc.) is an American e...  \n",
       "4  3i Group plc is a British multinational privat...  \n",
       "5  3i Infrastructure plc (LSE: 3IN) is an investm...  "
      ],
      "text/html": "<div>\n<style scoped>\n    .dataframe tbody tr th:only-of-type {\n        vertical-align: middle;\n    }\n\n    .dataframe tbody tr th {\n        vertical-align: top;\n    }\n\n    .dataframe thead th {\n        text-align: right;\n    }\n</style>\n<table border=\"1\" class=\"dataframe\">\n  <thead>\n    <tr style=\"text-align: right;\">\n      <th></th>\n      <th>name</th>\n      <th>rating</th>\n      <th>content</th>\n    </tr>\n  </thead>\n  <tbody>\n    <tr>\n      <th>0</th>\n      <td>1&amp;1 Drillisch AG</td>\n      <td>21.1</td>\n      <td>1&amp;1 Drillisch AG (formerly known as: Drillisch...</td>\n    </tr>\n    <tr>\n      <th>1</th>\n      <td>2i Rete Gas SpA</td>\n      <td>37.2</td>\n      <td>Headquartered in Milan, 2i Rete Gas  is the se...</td>\n    </tr>\n    <tr>\n      <th>2</th>\n      <td>2U, Inc.</td>\n      <td>15.7</td>\n      <td>2U, Inc. (formerly 2tor Inc.) is an American e...</td>\n    </tr>\n    <tr>\n      <th>4</th>\n      <td>3i Group PLC</td>\n      <td>12.6</td>\n      <td>3i Group plc is a British multinational privat...</td>\n    </tr>\n    <tr>\n      <th>5</th>\n      <td>3i Infrastructure PLC</td>\n      <td>22.1</td>\n      <td>3i Infrastructure plc (LSE: 3IN) is an investm...</td>\n    </tr>\n  </tbody>\n</table>\n</div>"
     },
     "metadata": {},
     "execution_count": 3
    }
   ],
   "source": [
    "df = pd.read_pickle('../data/processed/sustainalytics_dataset.pkl')\n",
    "df.head()"
   ]
  },
  {
   "cell_type": "code",
   "execution_count": 4,
   "metadata": {},
   "outputs": [],
   "source": [
    "import re\n",
    "\n",
    "def clean_text(content):\n",
    "    content = re.sub('\\n', ' ', content)\n",
    "    content = re.sub('[=]{2,}', ' ', content)\n",
    "    content = re.sub('[ ]{2,}', ' ', content)\n",
    "    return content\n",
    "\n",
    "df['content'] = df['content'].apply(clean_text)"
   ]
  },
  {
   "cell_type": "code",
   "execution_count": 5,
   "metadata": {},
   "outputs": [
    {
     "output_type": "execute_result",
     "data": {
      "text/plain": [
       "3064"
      ]
     },
     "metadata": {},
     "execution_count": 5
    }
   ],
   "source": [
    "X = df['content']\n",
    "y = df['rating']\n",
    "\n",
    "len(X)"
   ]
  },
  {
   "cell_type": "code",
   "execution_count": 6,
   "metadata": {},
   "outputs": [
    {
     "output_type": "stream",
     "name": "stdout",
     "text": [
      "6.2\n67.4\n25.239915143603177\n"
     ]
    }
   ],
   "source": [
    "print(min(y))\n",
    "print(max(y))\n",
    "print(sum(y)/len(y))"
   ]
  },
  {
   "cell_type": "code",
   "execution_count": 7,
   "metadata": {},
   "outputs": [
    {
     "output_type": "stream",
     "name": "stdout",
     "text": [
      "2144\n920\n"
     ]
    }
   ],
   "source": [
    "from sklearn.model_selection import train_test_split\n",
    "\n",
    "X_train, X_test, y_train, y_test = train_test_split(X, y, test_size=0.3)\n",
    "print(len(X_train))\n",
    "print(len(X_test))"
   ]
  },
  {
   "cell_type": "code",
   "execution_count": 8,
   "metadata": {},
   "outputs": [
    {
     "output_type": "execute_result",
     "data": {
      "text/plain": [
       "1443.3697780678851"
      ]
     },
     "metadata": {},
     "execution_count": 8
    }
   ],
   "source": [
    "# Nombre moyens de mots par article wiki\n",
    "df['content'].apply(lambda content: len(content.split(' '))).mean()"
   ]
  },
  {
   "cell_type": "code",
   "execution_count": 1,
   "metadata": {},
   "outputs": [
    {
     "output_type": "stream",
     "name": "stderr",
     "text": [
      "Downloading: 100%|██████████| 899k/899k [00:01<00:00, 760kB/s]\n",
      "Downloading: 100%|██████████| 456k/456k [00:00<00:00, 637kB/s]\n"
     ]
    }
   ],
   "source": [
    "from transformers import RobertaConfig, RobertaModel\n",
    "from transformers import RobertaTokenizer\n",
    "\n",
    "configuration = RobertaConfig()\n",
    "model = RobertaModel(configuration)\n",
    "tokenizer = RobertaTokenizer.from_pretrained(\"roberta-base\")"
   ]
  },
  {
   "cell_type": "code",
   "execution_count": 10,
   "metadata": {},
   "outputs": [
    {
     "output_type": "execute_result",
     "data": {
      "text/plain": [
       "{'input_ids': [0, 31414, 1669, 359, 1972, 2], 'attention_mask': [1, 1, 1, 1, 1, 1]}"
      ]
     },
     "metadata": {},
     "execution_count": 10
    }
   ],
   "source": [
    "tokenizer(\"Hello guys & girls\")"
   ]
  },
  {
   "cell_type": "code",
   "execution_count": 23,
   "metadata": {},
   "outputs": [],
   "source": [
    "from math import ceil"
   ]
  },
  {
   "cell_type": "code",
   "execution_count": 24,
   "metadata": {},
   "outputs": [],
   "source": [
    "# max_length = 200\n",
    "max_length = 10\n",
    "# overlap_length = 50\n",
    "overlap_length = 5\n",
    "\n",
    "def split_tokens_sequence(tokens_sequence):\n",
    "    n = len(tokens_sequence)\n",
    "    sequences = list()\n",
    "    sequences.append(tokens_sequence[0 : min(max_length, n)])\n",
    "    \n",
    "    for i in range(ceil((n - max_length) / (max_length - overlap_length))):\n",
    "        initial_pos = (max_length - overlap_length)*(i + 1)\n",
    "        final_pos = min((max_length - overlap_length)*(i + 1) + max_length, n)\n",
    "        sequences.append(tokens_sequence[initial_pos : final_pos])\n",
    "    \n",
    "    return sequences"
   ]
  },
  {
   "cell_type": "code",
   "execution_count": null,
   "metadata": {},
   "outputs": [],
   "source": []
  }
 ]
}